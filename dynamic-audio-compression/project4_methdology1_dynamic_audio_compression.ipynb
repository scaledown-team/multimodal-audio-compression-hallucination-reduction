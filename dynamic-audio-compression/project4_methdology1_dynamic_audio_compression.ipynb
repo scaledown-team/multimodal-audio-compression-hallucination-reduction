{
  "nbformat": 4,
  "nbformat_minor": 0,
  "metadata": {
    "colab": {
      "provenance": []
    },
    "kernelspec": {
      "name": "python3",
      "display_name": "Python 3"
    },
    "language_info": {
      "name": "python"
    },
    "widgets": {
      "application/vnd.jupyter.widget-state+json": {
        "d7189a8959034ea4b71d2c67f65e9ac6": {
          "model_module": "@jupyter-widgets/controls",
          "model_name": "HBoxModel",
          "model_module_version": "1.5.0",
          "state": {
            "_dom_classes": [],
            "_model_module": "@jupyter-widgets/controls",
            "_model_module_version": "1.5.0",
            "_model_name": "HBoxModel",
            "_view_count": null,
            "_view_module": "@jupyter-widgets/controls",
            "_view_module_version": "1.5.0",
            "_view_name": "HBoxView",
            "box_style": "",
            "children": [
              "IPY_MODEL_2804ca2f2dcb4604b5d653db3ceda926",
              "IPY_MODEL_4f65661e180b49408b16987e0e117d63",
              "IPY_MODEL_3cdfd97b538c48c7ad120bbd302d928f"
            ],
            "layout": "IPY_MODEL_e2a18435249d41d7bfc0b2095df1d2ae"
          }
        },
        "2804ca2f2dcb4604b5d653db3ceda926": {
          "model_module": "@jupyter-widgets/controls",
          "model_name": "HTMLModel",
          "model_module_version": "1.5.0",
          "state": {
            "_dom_classes": [],
            "_model_module": "@jupyter-widgets/controls",
            "_model_module_version": "1.5.0",
            "_model_name": "HTMLModel",
            "_view_count": null,
            "_view_module": "@jupyter-widgets/controls",
            "_view_module_version": "1.5.0",
            "_view_name": "HTMLView",
            "description": "",
            "description_tooltip": null,
            "layout": "IPY_MODEL_4a67dbd6e95c435a939056e66cf423d3",
            "placeholder": "​",
            "style": "IPY_MODEL_2b01fe44e3f94673bf73d12090666b52",
            "value": "Resolving data files: 100%"
          }
        },
        "4f65661e180b49408b16987e0e117d63": {
          "model_module": "@jupyter-widgets/controls",
          "model_name": "FloatProgressModel",
          "model_module_version": "1.5.0",
          "state": {
            "_dom_classes": [],
            "_model_module": "@jupyter-widgets/controls",
            "_model_module_version": "1.5.0",
            "_model_name": "FloatProgressModel",
            "_view_count": null,
            "_view_module": "@jupyter-widgets/controls",
            "_view_module_version": "1.5.0",
            "_view_name": "ProgressView",
            "bar_style": "success",
            "description": "",
            "description_tooltip": null,
            "layout": "IPY_MODEL_dd02c310892e448ea45319abf280409b",
            "max": 48,
            "min": 0,
            "orientation": "horizontal",
            "style": "IPY_MODEL_0e24243710c54e4ca76182e6f01725d2",
            "value": 48
          }
        },
        "3cdfd97b538c48c7ad120bbd302d928f": {
          "model_module": "@jupyter-widgets/controls",
          "model_name": "HTMLModel",
          "model_module_version": "1.5.0",
          "state": {
            "_dom_classes": [],
            "_model_module": "@jupyter-widgets/controls",
            "_model_module_version": "1.5.0",
            "_model_name": "HTMLModel",
            "_view_count": null,
            "_view_module": "@jupyter-widgets/controls",
            "_view_module_version": "1.5.0",
            "_view_name": "HTMLView",
            "description": "",
            "description_tooltip": null,
            "layout": "IPY_MODEL_d832e1c4775845c1ba1ad3ee2c08fd9e",
            "placeholder": "​",
            "style": "IPY_MODEL_f7e5232fb65945839e427d5eba53a75f",
            "value": " 48/48 [00:00&lt;00:00, 1482.38it/s]"
          }
        },
        "e2a18435249d41d7bfc0b2095df1d2ae": {
          "model_module": "@jupyter-widgets/base",
          "model_name": "LayoutModel",
          "model_module_version": "1.2.0",
          "state": {
            "_model_module": "@jupyter-widgets/base",
            "_model_module_version": "1.2.0",
            "_model_name": "LayoutModel",
            "_view_count": null,
            "_view_module": "@jupyter-widgets/base",
            "_view_module_version": "1.2.0",
            "_view_name": "LayoutView",
            "align_content": null,
            "align_items": null,
            "align_self": null,
            "border": null,
            "bottom": null,
            "display": null,
            "flex": null,
            "flex_flow": null,
            "grid_area": null,
            "grid_auto_columns": null,
            "grid_auto_flow": null,
            "grid_auto_rows": null,
            "grid_column": null,
            "grid_gap": null,
            "grid_row": null,
            "grid_template_areas": null,
            "grid_template_columns": null,
            "grid_template_rows": null,
            "height": null,
            "justify_content": null,
            "justify_items": null,
            "left": null,
            "margin": null,
            "max_height": null,
            "max_width": null,
            "min_height": null,
            "min_width": null,
            "object_fit": null,
            "object_position": null,
            "order": null,
            "overflow": null,
            "overflow_x": null,
            "overflow_y": null,
            "padding": null,
            "right": null,
            "top": null,
            "visibility": null,
            "width": null
          }
        },
        "4a67dbd6e95c435a939056e66cf423d3": {
          "model_module": "@jupyter-widgets/base",
          "model_name": "LayoutModel",
          "model_module_version": "1.2.0",
          "state": {
            "_model_module": "@jupyter-widgets/base",
            "_model_module_version": "1.2.0",
            "_model_name": "LayoutModel",
            "_view_count": null,
            "_view_module": "@jupyter-widgets/base",
            "_view_module_version": "1.2.0",
            "_view_name": "LayoutView",
            "align_content": null,
            "align_items": null,
            "align_self": null,
            "border": null,
            "bottom": null,
            "display": null,
            "flex": null,
            "flex_flow": null,
            "grid_area": null,
            "grid_auto_columns": null,
            "grid_auto_flow": null,
            "grid_auto_rows": null,
            "grid_column": null,
            "grid_gap": null,
            "grid_row": null,
            "grid_template_areas": null,
            "grid_template_columns": null,
            "grid_template_rows": null,
            "height": null,
            "justify_content": null,
            "justify_items": null,
            "left": null,
            "margin": null,
            "max_height": null,
            "max_width": null,
            "min_height": null,
            "min_width": null,
            "object_fit": null,
            "object_position": null,
            "order": null,
            "overflow": null,
            "overflow_x": null,
            "overflow_y": null,
            "padding": null,
            "right": null,
            "top": null,
            "visibility": null,
            "width": null
          }
        },
        "2b01fe44e3f94673bf73d12090666b52": {
          "model_module": "@jupyter-widgets/controls",
          "model_name": "DescriptionStyleModel",
          "model_module_version": "1.5.0",
          "state": {
            "_model_module": "@jupyter-widgets/controls",
            "_model_module_version": "1.5.0",
            "_model_name": "DescriptionStyleModel",
            "_view_count": null,
            "_view_module": "@jupyter-widgets/base",
            "_view_module_version": "1.2.0",
            "_view_name": "StyleView",
            "description_width": ""
          }
        },
        "dd02c310892e448ea45319abf280409b": {
          "model_module": "@jupyter-widgets/base",
          "model_name": "LayoutModel",
          "model_module_version": "1.2.0",
          "state": {
            "_model_module": "@jupyter-widgets/base",
            "_model_module_version": "1.2.0",
            "_model_name": "LayoutModel",
            "_view_count": null,
            "_view_module": "@jupyter-widgets/base",
            "_view_module_version": "1.2.0",
            "_view_name": "LayoutView",
            "align_content": null,
            "align_items": null,
            "align_self": null,
            "border": null,
            "bottom": null,
            "display": null,
            "flex": null,
            "flex_flow": null,
            "grid_area": null,
            "grid_auto_columns": null,
            "grid_auto_flow": null,
            "grid_auto_rows": null,
            "grid_column": null,
            "grid_gap": null,
            "grid_row": null,
            "grid_template_areas": null,
            "grid_template_columns": null,
            "grid_template_rows": null,
            "height": null,
            "justify_content": null,
            "justify_items": null,
            "left": null,
            "margin": null,
            "max_height": null,
            "max_width": null,
            "min_height": null,
            "min_width": null,
            "object_fit": null,
            "object_position": null,
            "order": null,
            "overflow": null,
            "overflow_x": null,
            "overflow_y": null,
            "padding": null,
            "right": null,
            "top": null,
            "visibility": null,
            "width": null
          }
        },
        "0e24243710c54e4ca76182e6f01725d2": {
          "model_module": "@jupyter-widgets/controls",
          "model_name": "ProgressStyleModel",
          "model_module_version": "1.5.0",
          "state": {
            "_model_module": "@jupyter-widgets/controls",
            "_model_module_version": "1.5.0",
            "_model_name": "ProgressStyleModel",
            "_view_count": null,
            "_view_module": "@jupyter-widgets/base",
            "_view_module_version": "1.2.0",
            "_view_name": "StyleView",
            "bar_color": null,
            "description_width": ""
          }
        },
        "d832e1c4775845c1ba1ad3ee2c08fd9e": {
          "model_module": "@jupyter-widgets/base",
          "model_name": "LayoutModel",
          "model_module_version": "1.2.0",
          "state": {
            "_model_module": "@jupyter-widgets/base",
            "_model_module_version": "1.2.0",
            "_model_name": "LayoutModel",
            "_view_count": null,
            "_view_module": "@jupyter-widgets/base",
            "_view_module_version": "1.2.0",
            "_view_name": "LayoutView",
            "align_content": null,
            "align_items": null,
            "align_self": null,
            "border": null,
            "bottom": null,
            "display": null,
            "flex": null,
            "flex_flow": null,
            "grid_area": null,
            "grid_auto_columns": null,
            "grid_auto_flow": null,
            "grid_auto_rows": null,
            "grid_column": null,
            "grid_gap": null,
            "grid_row": null,
            "grid_template_areas": null,
            "grid_template_columns": null,
            "grid_template_rows": null,
            "height": null,
            "justify_content": null,
            "justify_items": null,
            "left": null,
            "margin": null,
            "max_height": null,
            "max_width": null,
            "min_height": null,
            "min_width": null,
            "object_fit": null,
            "object_position": null,
            "order": null,
            "overflow": null,
            "overflow_x": null,
            "overflow_y": null,
            "padding": null,
            "right": null,
            "top": null,
            "visibility": null,
            "width": null
          }
        },
        "f7e5232fb65945839e427d5eba53a75f": {
          "model_module": "@jupyter-widgets/controls",
          "model_name": "DescriptionStyleModel",
          "model_module_version": "1.5.0",
          "state": {
            "_model_module": "@jupyter-widgets/controls",
            "_model_module_version": "1.5.0",
            "_model_name": "DescriptionStyleModel",
            "_view_count": null,
            "_view_module": "@jupyter-widgets/base",
            "_view_module_version": "1.2.0",
            "_view_name": "StyleView",
            "description_width": ""
          }
        },
        "953b0478fafc4473a8fe4e16d59069e4": {
          "model_module": "@jupyter-widgets/controls",
          "model_name": "HBoxModel",
          "model_module_version": "1.5.0",
          "state": {
            "_dom_classes": [],
            "_model_module": "@jupyter-widgets/controls",
            "_model_module_version": "1.5.0",
            "_model_name": "HBoxModel",
            "_view_count": null,
            "_view_module": "@jupyter-widgets/controls",
            "_view_module_version": "1.5.0",
            "_view_name": "HBoxView",
            "box_style": "",
            "children": [
              "IPY_MODEL_196691d889f549a0a3c5782b5dee931d",
              "IPY_MODEL_b0b6f36c64a04315aea9e54bbe666015",
              "IPY_MODEL_cfeabadc828d42cfa9b688143386a57f"
            ],
            "layout": "IPY_MODEL_d255824f014b48638d7f43fb954e53a9"
          }
        },
        "196691d889f549a0a3c5782b5dee931d": {
          "model_module": "@jupyter-widgets/controls",
          "model_name": "HTMLModel",
          "model_module_version": "1.5.0",
          "state": {
            "_dom_classes": [],
            "_model_module": "@jupyter-widgets/controls",
            "_model_module_version": "1.5.0",
            "_model_name": "HTMLModel",
            "_view_count": null,
            "_view_module": "@jupyter-widgets/controls",
            "_view_module_version": "1.5.0",
            "_view_name": "HTMLView",
            "description": "",
            "description_tooltip": null,
            "layout": "IPY_MODEL_2158c3ba81f2435a81e2b81967e0a868",
            "placeholder": "​",
            "style": "IPY_MODEL_f68c825795554798a38f41a9f8231039",
            "value": "Resolving data files: 100%"
          }
        },
        "b0b6f36c64a04315aea9e54bbe666015": {
          "model_module": "@jupyter-widgets/controls",
          "model_name": "FloatProgressModel",
          "model_module_version": "1.5.0",
          "state": {
            "_dom_classes": [],
            "_model_module": "@jupyter-widgets/controls",
            "_model_module_version": "1.5.0",
            "_model_name": "FloatProgressModel",
            "_view_count": null,
            "_view_module": "@jupyter-widgets/controls",
            "_view_module_version": "1.5.0",
            "_view_name": "ProgressView",
            "bar_style": "success",
            "description": "",
            "description_tooltip": null,
            "layout": "IPY_MODEL_887940ec37f24bbd91f3919325b61583",
            "max": 48,
            "min": 0,
            "orientation": "horizontal",
            "style": "IPY_MODEL_aa2bad798729488d9b55688079551466",
            "value": 48
          }
        },
        "cfeabadc828d42cfa9b688143386a57f": {
          "model_module": "@jupyter-widgets/controls",
          "model_name": "HTMLModel",
          "model_module_version": "1.5.0",
          "state": {
            "_dom_classes": [],
            "_model_module": "@jupyter-widgets/controls",
            "_model_module_version": "1.5.0",
            "_model_name": "HTMLModel",
            "_view_count": null,
            "_view_module": "@jupyter-widgets/controls",
            "_view_module_version": "1.5.0",
            "_view_name": "HTMLView",
            "description": "",
            "description_tooltip": null,
            "layout": "IPY_MODEL_ea5f8f500f1341a79db0bdb13ca20006",
            "placeholder": "​",
            "style": "IPY_MODEL_998079330acd460988bb378af5d65de9",
            "value": " 48/48 [00:00&lt;00:00, 1366.78it/s]"
          }
        },
        "d255824f014b48638d7f43fb954e53a9": {
          "model_module": "@jupyter-widgets/base",
          "model_name": "LayoutModel",
          "model_module_version": "1.2.0",
          "state": {
            "_model_module": "@jupyter-widgets/base",
            "_model_module_version": "1.2.0",
            "_model_name": "LayoutModel",
            "_view_count": null,
            "_view_module": "@jupyter-widgets/base",
            "_view_module_version": "1.2.0",
            "_view_name": "LayoutView",
            "align_content": null,
            "align_items": null,
            "align_self": null,
            "border": null,
            "bottom": null,
            "display": null,
            "flex": null,
            "flex_flow": null,
            "grid_area": null,
            "grid_auto_columns": null,
            "grid_auto_flow": null,
            "grid_auto_rows": null,
            "grid_column": null,
            "grid_gap": null,
            "grid_row": null,
            "grid_template_areas": null,
            "grid_template_columns": null,
            "grid_template_rows": null,
            "height": null,
            "justify_content": null,
            "justify_items": null,
            "left": null,
            "margin": null,
            "max_height": null,
            "max_width": null,
            "min_height": null,
            "min_width": null,
            "object_fit": null,
            "object_position": null,
            "order": null,
            "overflow": null,
            "overflow_x": null,
            "overflow_y": null,
            "padding": null,
            "right": null,
            "top": null,
            "visibility": null,
            "width": null
          }
        },
        "2158c3ba81f2435a81e2b81967e0a868": {
          "model_module": "@jupyter-widgets/base",
          "model_name": "LayoutModel",
          "model_module_version": "1.2.0",
          "state": {
            "_model_module": "@jupyter-widgets/base",
            "_model_module_version": "1.2.0",
            "_model_name": "LayoutModel",
            "_view_count": null,
            "_view_module": "@jupyter-widgets/base",
            "_view_module_version": "1.2.0",
            "_view_name": "LayoutView",
            "align_content": null,
            "align_items": null,
            "align_self": null,
            "border": null,
            "bottom": null,
            "display": null,
            "flex": null,
            "flex_flow": null,
            "grid_area": null,
            "grid_auto_columns": null,
            "grid_auto_flow": null,
            "grid_auto_rows": null,
            "grid_column": null,
            "grid_gap": null,
            "grid_row": null,
            "grid_template_areas": null,
            "grid_template_columns": null,
            "grid_template_rows": null,
            "height": null,
            "justify_content": null,
            "justify_items": null,
            "left": null,
            "margin": null,
            "max_height": null,
            "max_width": null,
            "min_height": null,
            "min_width": null,
            "object_fit": null,
            "object_position": null,
            "order": null,
            "overflow": null,
            "overflow_x": null,
            "overflow_y": null,
            "padding": null,
            "right": null,
            "top": null,
            "visibility": null,
            "width": null
          }
        },
        "f68c825795554798a38f41a9f8231039": {
          "model_module": "@jupyter-widgets/controls",
          "model_name": "DescriptionStyleModel",
          "model_module_version": "1.5.0",
          "state": {
            "_model_module": "@jupyter-widgets/controls",
            "_model_module_version": "1.5.0",
            "_model_name": "DescriptionStyleModel",
            "_view_count": null,
            "_view_module": "@jupyter-widgets/base",
            "_view_module_version": "1.2.0",
            "_view_name": "StyleView",
            "description_width": ""
          }
        },
        "887940ec37f24bbd91f3919325b61583": {
          "model_module": "@jupyter-widgets/base",
          "model_name": "LayoutModel",
          "model_module_version": "1.2.0",
          "state": {
            "_model_module": "@jupyter-widgets/base",
            "_model_module_version": "1.2.0",
            "_model_name": "LayoutModel",
            "_view_count": null,
            "_view_module": "@jupyter-widgets/base",
            "_view_module_version": "1.2.0",
            "_view_name": "LayoutView",
            "align_content": null,
            "align_items": null,
            "align_self": null,
            "border": null,
            "bottom": null,
            "display": null,
            "flex": null,
            "flex_flow": null,
            "grid_area": null,
            "grid_auto_columns": null,
            "grid_auto_flow": null,
            "grid_auto_rows": null,
            "grid_column": null,
            "grid_gap": null,
            "grid_row": null,
            "grid_template_areas": null,
            "grid_template_columns": null,
            "grid_template_rows": null,
            "height": null,
            "justify_content": null,
            "justify_items": null,
            "left": null,
            "margin": null,
            "max_height": null,
            "max_width": null,
            "min_height": null,
            "min_width": null,
            "object_fit": null,
            "object_position": null,
            "order": null,
            "overflow": null,
            "overflow_x": null,
            "overflow_y": null,
            "padding": null,
            "right": null,
            "top": null,
            "visibility": null,
            "width": null
          }
        },
        "aa2bad798729488d9b55688079551466": {
          "model_module": "@jupyter-widgets/controls",
          "model_name": "ProgressStyleModel",
          "model_module_version": "1.5.0",
          "state": {
            "_model_module": "@jupyter-widgets/controls",
            "_model_module_version": "1.5.0",
            "_model_name": "ProgressStyleModel",
            "_view_count": null,
            "_view_module": "@jupyter-widgets/base",
            "_view_module_version": "1.2.0",
            "_view_name": "StyleView",
            "bar_color": null,
            "description_width": ""
          }
        },
        "ea5f8f500f1341a79db0bdb13ca20006": {
          "model_module": "@jupyter-widgets/base",
          "model_name": "LayoutModel",
          "model_module_version": "1.2.0",
          "state": {
            "_model_module": "@jupyter-widgets/base",
            "_model_module_version": "1.2.0",
            "_model_name": "LayoutModel",
            "_view_count": null,
            "_view_module": "@jupyter-widgets/base",
            "_view_module_version": "1.2.0",
            "_view_name": "LayoutView",
            "align_content": null,
            "align_items": null,
            "align_self": null,
            "border": null,
            "bottom": null,
            "display": null,
            "flex": null,
            "flex_flow": null,
            "grid_area": null,
            "grid_auto_columns": null,
            "grid_auto_flow": null,
            "grid_auto_rows": null,
            "grid_column": null,
            "grid_gap": null,
            "grid_row": null,
            "grid_template_areas": null,
            "grid_template_columns": null,
            "grid_template_rows": null,
            "height": null,
            "justify_content": null,
            "justify_items": null,
            "left": null,
            "margin": null,
            "max_height": null,
            "max_width": null,
            "min_height": null,
            "min_width": null,
            "object_fit": null,
            "object_position": null,
            "order": null,
            "overflow": null,
            "overflow_x": null,
            "overflow_y": null,
            "padding": null,
            "right": null,
            "top": null,
            "visibility": null,
            "width": null
          }
        },
        "998079330acd460988bb378af5d65de9": {
          "model_module": "@jupyter-widgets/controls",
          "model_name": "DescriptionStyleModel",
          "model_module_version": "1.5.0",
          "state": {
            "_model_module": "@jupyter-widgets/controls",
            "_model_module_version": "1.5.0",
            "_model_name": "DescriptionStyleModel",
            "_view_count": null,
            "_view_module": "@jupyter-widgets/base",
            "_view_module_version": "1.2.0",
            "_view_name": "StyleView",
            "description_width": ""
          }
        },
        "0cae659fe4ef4c41bc315c8eb9615acc": {
          "model_module": "@jupyter-widgets/controls",
          "model_name": "HBoxModel",
          "model_module_version": "1.5.0",
          "state": {
            "_dom_classes": [],
            "_model_module": "@jupyter-widgets/controls",
            "_model_module_version": "1.5.0",
            "_model_name": "HBoxModel",
            "_view_count": null,
            "_view_module": "@jupyter-widgets/controls",
            "_view_module_version": "1.5.0",
            "_view_name": "HBoxView",
            "box_style": "",
            "children": [
              "IPY_MODEL_e8684e106f9645629d51db55509020d4",
              "IPY_MODEL_6ea0c2a1c73e46809322a80ba6175c18",
              "IPY_MODEL_016fb04063a14d3190d30fad7fc3d42a"
            ],
            "layout": "IPY_MODEL_795238b47f5848c7b723aaf49d1b3273"
          }
        },
        "e8684e106f9645629d51db55509020d4": {
          "model_module": "@jupyter-widgets/controls",
          "model_name": "HTMLModel",
          "model_module_version": "1.5.0",
          "state": {
            "_dom_classes": [],
            "_model_module": "@jupyter-widgets/controls",
            "_model_module_version": "1.5.0",
            "_model_name": "HTMLModel",
            "_view_count": null,
            "_view_module": "@jupyter-widgets/controls",
            "_view_module_version": "1.5.0",
            "_view_name": "HTMLView",
            "description": "",
            "description_tooltip": null,
            "layout": "IPY_MODEL_7407d6eb025c45d9b0a00bb8c3f8000e",
            "placeholder": "​",
            "style": "IPY_MODEL_c447220e15664171873bec0a45fb48fd",
            "value": "Resolving data files: 100%"
          }
        },
        "6ea0c2a1c73e46809322a80ba6175c18": {
          "model_module": "@jupyter-widgets/controls",
          "model_name": "FloatProgressModel",
          "model_module_version": "1.5.0",
          "state": {
            "_dom_classes": [],
            "_model_module": "@jupyter-widgets/controls",
            "_model_module_version": "1.5.0",
            "_model_name": "FloatProgressModel",
            "_view_count": null,
            "_view_module": "@jupyter-widgets/controls",
            "_view_module_version": "1.5.0",
            "_view_name": "ProgressView",
            "bar_style": "success",
            "description": "",
            "description_tooltip": null,
            "layout": "IPY_MODEL_2afe42c0fa4e45ee8d3f8cf4cecc3f26",
            "max": 48,
            "min": 0,
            "orientation": "horizontal",
            "style": "IPY_MODEL_58a357436af448f9963925bffeefe140",
            "value": 48
          }
        },
        "016fb04063a14d3190d30fad7fc3d42a": {
          "model_module": "@jupyter-widgets/controls",
          "model_name": "HTMLModel",
          "model_module_version": "1.5.0",
          "state": {
            "_dom_classes": [],
            "_model_module": "@jupyter-widgets/controls",
            "_model_module_version": "1.5.0",
            "_model_name": "HTMLModel",
            "_view_count": null,
            "_view_module": "@jupyter-widgets/controls",
            "_view_module_version": "1.5.0",
            "_view_name": "HTMLView",
            "description": "",
            "description_tooltip": null,
            "layout": "IPY_MODEL_6d32a4aac6d4456681dffeb2a20a7583",
            "placeholder": "​",
            "style": "IPY_MODEL_7e7ba29502024774aeb1ce14042efc56",
            "value": " 48/48 [00:00&lt;00:00, 2382.76it/s]"
          }
        },
        "795238b47f5848c7b723aaf49d1b3273": {
          "model_module": "@jupyter-widgets/base",
          "model_name": "LayoutModel",
          "model_module_version": "1.2.0",
          "state": {
            "_model_module": "@jupyter-widgets/base",
            "_model_module_version": "1.2.0",
            "_model_name": "LayoutModel",
            "_view_count": null,
            "_view_module": "@jupyter-widgets/base",
            "_view_module_version": "1.2.0",
            "_view_name": "LayoutView",
            "align_content": null,
            "align_items": null,
            "align_self": null,
            "border": null,
            "bottom": null,
            "display": null,
            "flex": null,
            "flex_flow": null,
            "grid_area": null,
            "grid_auto_columns": null,
            "grid_auto_flow": null,
            "grid_auto_rows": null,
            "grid_column": null,
            "grid_gap": null,
            "grid_row": null,
            "grid_template_areas": null,
            "grid_template_columns": null,
            "grid_template_rows": null,
            "height": null,
            "justify_content": null,
            "justify_items": null,
            "left": null,
            "margin": null,
            "max_height": null,
            "max_width": null,
            "min_height": null,
            "min_width": null,
            "object_fit": null,
            "object_position": null,
            "order": null,
            "overflow": null,
            "overflow_x": null,
            "overflow_y": null,
            "padding": null,
            "right": null,
            "top": null,
            "visibility": null,
            "width": null
          }
        },
        "7407d6eb025c45d9b0a00bb8c3f8000e": {
          "model_module": "@jupyter-widgets/base",
          "model_name": "LayoutModel",
          "model_module_version": "1.2.0",
          "state": {
            "_model_module": "@jupyter-widgets/base",
            "_model_module_version": "1.2.0",
            "_model_name": "LayoutModel",
            "_view_count": null,
            "_view_module": "@jupyter-widgets/base",
            "_view_module_version": "1.2.0",
            "_view_name": "LayoutView",
            "align_content": null,
            "align_items": null,
            "align_self": null,
            "border": null,
            "bottom": null,
            "display": null,
            "flex": null,
            "flex_flow": null,
            "grid_area": null,
            "grid_auto_columns": null,
            "grid_auto_flow": null,
            "grid_auto_rows": null,
            "grid_column": null,
            "grid_gap": null,
            "grid_row": null,
            "grid_template_areas": null,
            "grid_template_columns": null,
            "grid_template_rows": null,
            "height": null,
            "justify_content": null,
            "justify_items": null,
            "left": null,
            "margin": null,
            "max_height": null,
            "max_width": null,
            "min_height": null,
            "min_width": null,
            "object_fit": null,
            "object_position": null,
            "order": null,
            "overflow": null,
            "overflow_x": null,
            "overflow_y": null,
            "padding": null,
            "right": null,
            "top": null,
            "visibility": null,
            "width": null
          }
        },
        "c447220e15664171873bec0a45fb48fd": {
          "model_module": "@jupyter-widgets/controls",
          "model_name": "DescriptionStyleModel",
          "model_module_version": "1.5.0",
          "state": {
            "_model_module": "@jupyter-widgets/controls",
            "_model_module_version": "1.5.0",
            "_model_name": "DescriptionStyleModel",
            "_view_count": null,
            "_view_module": "@jupyter-widgets/base",
            "_view_module_version": "1.2.0",
            "_view_name": "StyleView",
            "description_width": ""
          }
        },
        "2afe42c0fa4e45ee8d3f8cf4cecc3f26": {
          "model_module": "@jupyter-widgets/base",
          "model_name": "LayoutModel",
          "model_module_version": "1.2.0",
          "state": {
            "_model_module": "@jupyter-widgets/base",
            "_model_module_version": "1.2.0",
            "_model_name": "LayoutModel",
            "_view_count": null,
            "_view_module": "@jupyter-widgets/base",
            "_view_module_version": "1.2.0",
            "_view_name": "LayoutView",
            "align_content": null,
            "align_items": null,
            "align_self": null,
            "border": null,
            "bottom": null,
            "display": null,
            "flex": null,
            "flex_flow": null,
            "grid_area": null,
            "grid_auto_columns": null,
            "grid_auto_flow": null,
            "grid_auto_rows": null,
            "grid_column": null,
            "grid_gap": null,
            "grid_row": null,
            "grid_template_areas": null,
            "grid_template_columns": null,
            "grid_template_rows": null,
            "height": null,
            "justify_content": null,
            "justify_items": null,
            "left": null,
            "margin": null,
            "max_height": null,
            "max_width": null,
            "min_height": null,
            "min_width": null,
            "object_fit": null,
            "object_position": null,
            "order": null,
            "overflow": null,
            "overflow_x": null,
            "overflow_y": null,
            "padding": null,
            "right": null,
            "top": null,
            "visibility": null,
            "width": null
          }
        },
        "58a357436af448f9963925bffeefe140": {
          "model_module": "@jupyter-widgets/controls",
          "model_name": "ProgressStyleModel",
          "model_module_version": "1.5.0",
          "state": {
            "_model_module": "@jupyter-widgets/controls",
            "_model_module_version": "1.5.0",
            "_model_name": "ProgressStyleModel",
            "_view_count": null,
            "_view_module": "@jupyter-widgets/base",
            "_view_module_version": "1.2.0",
            "_view_name": "StyleView",
            "bar_color": null,
            "description_width": ""
          }
        },
        "6d32a4aac6d4456681dffeb2a20a7583": {
          "model_module": "@jupyter-widgets/base",
          "model_name": "LayoutModel",
          "model_module_version": "1.2.0",
          "state": {
            "_model_module": "@jupyter-widgets/base",
            "_model_module_version": "1.2.0",
            "_model_name": "LayoutModel",
            "_view_count": null,
            "_view_module": "@jupyter-widgets/base",
            "_view_module_version": "1.2.0",
            "_view_name": "LayoutView",
            "align_content": null,
            "align_items": null,
            "align_self": null,
            "border": null,
            "bottom": null,
            "display": null,
            "flex": null,
            "flex_flow": null,
            "grid_area": null,
            "grid_auto_columns": null,
            "grid_auto_flow": null,
            "grid_auto_rows": null,
            "grid_column": null,
            "grid_gap": null,
            "grid_row": null,
            "grid_template_areas": null,
            "grid_template_columns": null,
            "grid_template_rows": null,
            "height": null,
            "justify_content": null,
            "justify_items": null,
            "left": null,
            "margin": null,
            "max_height": null,
            "max_width": null,
            "min_height": null,
            "min_width": null,
            "object_fit": null,
            "object_position": null,
            "order": null,
            "overflow": null,
            "overflow_x": null,
            "overflow_y": null,
            "padding": null,
            "right": null,
            "top": null,
            "visibility": null,
            "width": null
          }
        },
        "7e7ba29502024774aeb1ce14042efc56": {
          "model_module": "@jupyter-widgets/controls",
          "model_name": "DescriptionStyleModel",
          "model_module_version": "1.5.0",
          "state": {
            "_model_module": "@jupyter-widgets/controls",
            "_model_module_version": "1.5.0",
            "_model_name": "DescriptionStyleModel",
            "_view_count": null,
            "_view_module": "@jupyter-widgets/base",
            "_view_module_version": "1.2.0",
            "_view_name": "StyleView",
            "description_width": ""
          }
        },
        "a74eb2b061814a4e9efea518ea63ec66": {
          "model_module": "@jupyter-widgets/controls",
          "model_name": "HBoxModel",
          "model_module_version": "1.5.0",
          "state": {
            "_dom_classes": [],
            "_model_module": "@jupyter-widgets/controls",
            "_model_module_version": "1.5.0",
            "_model_name": "HBoxModel",
            "_view_count": null,
            "_view_module": "@jupyter-widgets/controls",
            "_view_module_version": "1.5.0",
            "_view_name": "HBoxView",
            "box_style": "",
            "children": [
              "IPY_MODEL_c9874533c86440d197487844d788ba6f",
              "IPY_MODEL_da18695b28d445c695272cf6a0a89e16",
              "IPY_MODEL_5c3398e8b93d4655b92e4d5185eb604e"
            ],
            "layout": "IPY_MODEL_aeb37662475e4fc8bb6ee4e7c17f32b3"
          }
        },
        "c9874533c86440d197487844d788ba6f": {
          "model_module": "@jupyter-widgets/controls",
          "model_name": "HTMLModel",
          "model_module_version": "1.5.0",
          "state": {
            "_dom_classes": [],
            "_model_module": "@jupyter-widgets/controls",
            "_model_module_version": "1.5.0",
            "_model_name": "HTMLModel",
            "_view_count": null,
            "_view_module": "@jupyter-widgets/controls",
            "_view_module_version": "1.5.0",
            "_view_name": "HTMLView",
            "description": "",
            "description_tooltip": null,
            "layout": "IPY_MODEL_a0b16a3573924eecaf93dfc22c66f7d0",
            "placeholder": "​",
            "style": "IPY_MODEL_28c0c24d78974a60b18745c7bd04c3bd",
            "value": "Resolving data files: 100%"
          }
        },
        "da18695b28d445c695272cf6a0a89e16": {
          "model_module": "@jupyter-widgets/controls",
          "model_name": "FloatProgressModel",
          "model_module_version": "1.5.0",
          "state": {
            "_dom_classes": [],
            "_model_module": "@jupyter-widgets/controls",
            "_model_module_version": "1.5.0",
            "_model_name": "FloatProgressModel",
            "_view_count": null,
            "_view_module": "@jupyter-widgets/controls",
            "_view_module_version": "1.5.0",
            "_view_name": "ProgressView",
            "bar_style": "success",
            "description": "",
            "description_tooltip": null,
            "layout": "IPY_MODEL_92ecf38e821f43ba849c9b378eacac20",
            "max": 48,
            "min": 0,
            "orientation": "horizontal",
            "style": "IPY_MODEL_f79447259de44c4fa8d04d6c1a5bdfa4",
            "value": 48
          }
        },
        "5c3398e8b93d4655b92e4d5185eb604e": {
          "model_module": "@jupyter-widgets/controls",
          "model_name": "HTMLModel",
          "model_module_version": "1.5.0",
          "state": {
            "_dom_classes": [],
            "_model_module": "@jupyter-widgets/controls",
            "_model_module_version": "1.5.0",
            "_model_name": "HTMLModel",
            "_view_count": null,
            "_view_module": "@jupyter-widgets/controls",
            "_view_module_version": "1.5.0",
            "_view_name": "HTMLView",
            "description": "",
            "description_tooltip": null,
            "layout": "IPY_MODEL_baeca327f402479ab05397fa12958b19",
            "placeholder": "​",
            "style": "IPY_MODEL_46e3f8bb113c45d5bf7ab12fa3279141",
            "value": " 48/48 [00:00&lt;00:00, 3829.90it/s]"
          }
        },
        "aeb37662475e4fc8bb6ee4e7c17f32b3": {
          "model_module": "@jupyter-widgets/base",
          "model_name": "LayoutModel",
          "model_module_version": "1.2.0",
          "state": {
            "_model_module": "@jupyter-widgets/base",
            "_model_module_version": "1.2.0",
            "_model_name": "LayoutModel",
            "_view_count": null,
            "_view_module": "@jupyter-widgets/base",
            "_view_module_version": "1.2.0",
            "_view_name": "LayoutView",
            "align_content": null,
            "align_items": null,
            "align_self": null,
            "border": null,
            "bottom": null,
            "display": null,
            "flex": null,
            "flex_flow": null,
            "grid_area": null,
            "grid_auto_columns": null,
            "grid_auto_flow": null,
            "grid_auto_rows": null,
            "grid_column": null,
            "grid_gap": null,
            "grid_row": null,
            "grid_template_areas": null,
            "grid_template_columns": null,
            "grid_template_rows": null,
            "height": null,
            "justify_content": null,
            "justify_items": null,
            "left": null,
            "margin": null,
            "max_height": null,
            "max_width": null,
            "min_height": null,
            "min_width": null,
            "object_fit": null,
            "object_position": null,
            "order": null,
            "overflow": null,
            "overflow_x": null,
            "overflow_y": null,
            "padding": null,
            "right": null,
            "top": null,
            "visibility": null,
            "width": null
          }
        },
        "a0b16a3573924eecaf93dfc22c66f7d0": {
          "model_module": "@jupyter-widgets/base",
          "model_name": "LayoutModel",
          "model_module_version": "1.2.0",
          "state": {
            "_model_module": "@jupyter-widgets/base",
            "_model_module_version": "1.2.0",
            "_model_name": "LayoutModel",
            "_view_count": null,
            "_view_module": "@jupyter-widgets/base",
            "_view_module_version": "1.2.0",
            "_view_name": "LayoutView",
            "align_content": null,
            "align_items": null,
            "align_self": null,
            "border": null,
            "bottom": null,
            "display": null,
            "flex": null,
            "flex_flow": null,
            "grid_area": null,
            "grid_auto_columns": null,
            "grid_auto_flow": null,
            "grid_auto_rows": null,
            "grid_column": null,
            "grid_gap": null,
            "grid_row": null,
            "grid_template_areas": null,
            "grid_template_columns": null,
            "grid_template_rows": null,
            "height": null,
            "justify_content": null,
            "justify_items": null,
            "left": null,
            "margin": null,
            "max_height": null,
            "max_width": null,
            "min_height": null,
            "min_width": null,
            "object_fit": null,
            "object_position": null,
            "order": null,
            "overflow": null,
            "overflow_x": null,
            "overflow_y": null,
            "padding": null,
            "right": null,
            "top": null,
            "visibility": null,
            "width": null
          }
        },
        "28c0c24d78974a60b18745c7bd04c3bd": {
          "model_module": "@jupyter-widgets/controls",
          "model_name": "DescriptionStyleModel",
          "model_module_version": "1.5.0",
          "state": {
            "_model_module": "@jupyter-widgets/controls",
            "_model_module_version": "1.5.0",
            "_model_name": "DescriptionStyleModel",
            "_view_count": null,
            "_view_module": "@jupyter-widgets/base",
            "_view_module_version": "1.2.0",
            "_view_name": "StyleView",
            "description_width": ""
          }
        },
        "92ecf38e821f43ba849c9b378eacac20": {
          "model_module": "@jupyter-widgets/base",
          "model_name": "LayoutModel",
          "model_module_version": "1.2.0",
          "state": {
            "_model_module": "@jupyter-widgets/base",
            "_model_module_version": "1.2.0",
            "_model_name": "LayoutModel",
            "_view_count": null,
            "_view_module": "@jupyter-widgets/base",
            "_view_module_version": "1.2.0",
            "_view_name": "LayoutView",
            "align_content": null,
            "align_items": null,
            "align_self": null,
            "border": null,
            "bottom": null,
            "display": null,
            "flex": null,
            "flex_flow": null,
            "grid_area": null,
            "grid_auto_columns": null,
            "grid_auto_flow": null,
            "grid_auto_rows": null,
            "grid_column": null,
            "grid_gap": null,
            "grid_row": null,
            "grid_template_areas": null,
            "grid_template_columns": null,
            "grid_template_rows": null,
            "height": null,
            "justify_content": null,
            "justify_items": null,
            "left": null,
            "margin": null,
            "max_height": null,
            "max_width": null,
            "min_height": null,
            "min_width": null,
            "object_fit": null,
            "object_position": null,
            "order": null,
            "overflow": null,
            "overflow_x": null,
            "overflow_y": null,
            "padding": null,
            "right": null,
            "top": null,
            "visibility": null,
            "width": null
          }
        },
        "f79447259de44c4fa8d04d6c1a5bdfa4": {
          "model_module": "@jupyter-widgets/controls",
          "model_name": "ProgressStyleModel",
          "model_module_version": "1.5.0",
          "state": {
            "_model_module": "@jupyter-widgets/controls",
            "_model_module_version": "1.5.0",
            "_model_name": "ProgressStyleModel",
            "_view_count": null,
            "_view_module": "@jupyter-widgets/base",
            "_view_module_version": "1.2.0",
            "_view_name": "StyleView",
            "bar_color": null,
            "description_width": ""
          }
        },
        "baeca327f402479ab05397fa12958b19": {
          "model_module": "@jupyter-widgets/base",
          "model_name": "LayoutModel",
          "model_module_version": "1.2.0",
          "state": {
            "_model_module": "@jupyter-widgets/base",
            "_model_module_version": "1.2.0",
            "_model_name": "LayoutModel",
            "_view_count": null,
            "_view_module": "@jupyter-widgets/base",
            "_view_module_version": "1.2.0",
            "_view_name": "LayoutView",
            "align_content": null,
            "align_items": null,
            "align_self": null,
            "border": null,
            "bottom": null,
            "display": null,
            "flex": null,
            "flex_flow": null,
            "grid_area": null,
            "grid_auto_columns": null,
            "grid_auto_flow": null,
            "grid_auto_rows": null,
            "grid_column": null,
            "grid_gap": null,
            "grid_row": null,
            "grid_template_areas": null,
            "grid_template_columns": null,
            "grid_template_rows": null,
            "height": null,
            "justify_content": null,
            "justify_items": null,
            "left": null,
            "margin": null,
            "max_height": null,
            "max_width": null,
            "min_height": null,
            "min_width": null,
            "object_fit": null,
            "object_position": null,
            "order": null,
            "overflow": null,
            "overflow_x": null,
            "overflow_y": null,
            "padding": null,
            "right": null,
            "top": null,
            "visibility": null,
            "width": null
          }
        },
        "46e3f8bb113c45d5bf7ab12fa3279141": {
          "model_module": "@jupyter-widgets/controls",
          "model_name": "DescriptionStyleModel",
          "model_module_version": "1.5.0",
          "state": {
            "_model_module": "@jupyter-widgets/controls",
            "_model_module_version": "1.5.0",
            "_model_name": "DescriptionStyleModel",
            "_view_count": null,
            "_view_module": "@jupyter-widgets/base",
            "_view_module_version": "1.2.0",
            "_view_name": "StyleView",
            "description_width": ""
          }
        },
        "5c5ecd9a0a284b3db9d53dc8030dcad1": {
          "model_module": "@jupyter-widgets/controls",
          "model_name": "VBoxModel",
          "model_module_version": "1.5.0",
          "state": {
            "_dom_classes": [],
            "_model_module": "@jupyter-widgets/controls",
            "_model_module_version": "1.5.0",
            "_model_name": "VBoxModel",
            "_view_count": null,
            "_view_module": "@jupyter-widgets/controls",
            "_view_module_version": "1.5.0",
            "_view_name": "VBoxView",
            "box_style": "",
            "children": [],
            "layout": "IPY_MODEL_1fbde77673444eb0aedd5041b935f662"
          }
        },
        "be22120c742d4cddb5443e2bdb7106b7": {
          "model_module": "@jupyter-widgets/controls",
          "model_name": "HTMLModel",
          "model_module_version": "1.5.0",
          "state": {
            "_dom_classes": [],
            "_model_module": "@jupyter-widgets/controls",
            "_model_module_version": "1.5.0",
            "_model_name": "HTMLModel",
            "_view_count": null,
            "_view_module": "@jupyter-widgets/controls",
            "_view_module_version": "1.5.0",
            "_view_name": "HTMLView",
            "description": "",
            "description_tooltip": null,
            "layout": "IPY_MODEL_6a9f821af48a4410af41602c5c3a2ba9",
            "placeholder": "​",
            "style": "IPY_MODEL_5e2c4e0e31da48b8968939d098579bce",
            "value": "<center> <img\nsrc=https://huggingface.co/front/assets/huggingface_logo-noborder.svg\nalt='Hugging Face'> <br> Copy a token from <a\nhref=\"https://huggingface.co/settings/tokens\" target=\"_blank\">your Hugging Face\ntokens page</a> and paste it below. <br> Immediately click login after copying\nyour token or it might be stored in plain text in this notebook file. </center>"
          }
        },
        "4df37ae0c09745a29c670e21aab3566d": {
          "model_module": "@jupyter-widgets/controls",
          "model_name": "PasswordModel",
          "model_module_version": "1.5.0",
          "state": {
            "_dom_classes": [],
            "_model_module": "@jupyter-widgets/controls",
            "_model_module_version": "1.5.0",
            "_model_name": "PasswordModel",
            "_view_count": null,
            "_view_module": "@jupyter-widgets/controls",
            "_view_module_version": "1.5.0",
            "_view_name": "PasswordView",
            "continuous_update": true,
            "description": "Token:",
            "description_tooltip": null,
            "disabled": false,
            "layout": "IPY_MODEL_3002443dad4e481786b8517e5d4cd6eb",
            "placeholder": "​",
            "style": "IPY_MODEL_0cc1c97f272944daae29136e3eab33ce",
            "value": ""
          }
        },
        "fc636e748043433fa53aa149024b1b7e": {
          "model_module": "@jupyter-widgets/controls",
          "model_name": "CheckboxModel",
          "model_module_version": "1.5.0",
          "state": {
            "_dom_classes": [],
            "_model_module": "@jupyter-widgets/controls",
            "_model_module_version": "1.5.0",
            "_model_name": "CheckboxModel",
            "_view_count": null,
            "_view_module": "@jupyter-widgets/controls",
            "_view_module_version": "1.5.0",
            "_view_name": "CheckboxView",
            "description": "Add token as git credential?",
            "description_tooltip": null,
            "disabled": false,
            "indent": true,
            "layout": "IPY_MODEL_b920729b809646e386360ae07370488c",
            "style": "IPY_MODEL_ce182d408ec3491c8bc9a5047377f573",
            "value": true
          }
        },
        "3144256f8dcd406eba89b43e6e4ad84b": {
          "model_module": "@jupyter-widgets/controls",
          "model_name": "ButtonModel",
          "model_module_version": "1.5.0",
          "state": {
            "_dom_classes": [],
            "_model_module": "@jupyter-widgets/controls",
            "_model_module_version": "1.5.0",
            "_model_name": "ButtonModel",
            "_view_count": null,
            "_view_module": "@jupyter-widgets/controls",
            "_view_module_version": "1.5.0",
            "_view_name": "ButtonView",
            "button_style": "",
            "description": "Login",
            "disabled": false,
            "icon": "",
            "layout": "IPY_MODEL_dee9a392736648a7a837c865af500187",
            "style": "IPY_MODEL_8fa89b611f8e4909818540aef4a22aa7",
            "tooltip": ""
          }
        },
        "c4e7dedb74974e958f050ed1bc4f4e17": {
          "model_module": "@jupyter-widgets/controls",
          "model_name": "HTMLModel",
          "model_module_version": "1.5.0",
          "state": {
            "_dom_classes": [],
            "_model_module": "@jupyter-widgets/controls",
            "_model_module_version": "1.5.0",
            "_model_name": "HTMLModel",
            "_view_count": null,
            "_view_module": "@jupyter-widgets/controls",
            "_view_module_version": "1.5.0",
            "_view_name": "HTMLView",
            "description": "",
            "description_tooltip": null,
            "layout": "IPY_MODEL_e2ff4e247c844ccf94474287fbea2912",
            "placeholder": "​",
            "style": "IPY_MODEL_f1ddac374e6441cda51aeee11febd203",
            "value": "\n<b>Pro Tip:</b> If you don't already have one, you can create a dedicated\n'notebooks' token with 'write' access, that you can then easily reuse for all\nnotebooks. </center>"
          }
        },
        "1fbde77673444eb0aedd5041b935f662": {
          "model_module": "@jupyter-widgets/base",
          "model_name": "LayoutModel",
          "model_module_version": "1.2.0",
          "state": {
            "_model_module": "@jupyter-widgets/base",
            "_model_module_version": "1.2.0",
            "_model_name": "LayoutModel",
            "_view_count": null,
            "_view_module": "@jupyter-widgets/base",
            "_view_module_version": "1.2.0",
            "_view_name": "LayoutView",
            "align_content": null,
            "align_items": "center",
            "align_self": null,
            "border": null,
            "bottom": null,
            "display": "flex",
            "flex": null,
            "flex_flow": "column",
            "grid_area": null,
            "grid_auto_columns": null,
            "grid_auto_flow": null,
            "grid_auto_rows": null,
            "grid_column": null,
            "grid_gap": null,
            "grid_row": null,
            "grid_template_areas": null,
            "grid_template_columns": null,
            "grid_template_rows": null,
            "height": null,
            "justify_content": null,
            "justify_items": null,
            "left": null,
            "margin": null,
            "max_height": null,
            "max_width": null,
            "min_height": null,
            "min_width": null,
            "object_fit": null,
            "object_position": null,
            "order": null,
            "overflow": null,
            "overflow_x": null,
            "overflow_y": null,
            "padding": null,
            "right": null,
            "top": null,
            "visibility": null,
            "width": "50%"
          }
        },
        "6a9f821af48a4410af41602c5c3a2ba9": {
          "model_module": "@jupyter-widgets/base",
          "model_name": "LayoutModel",
          "model_module_version": "1.2.0",
          "state": {
            "_model_module": "@jupyter-widgets/base",
            "_model_module_version": "1.2.0",
            "_model_name": "LayoutModel",
            "_view_count": null,
            "_view_module": "@jupyter-widgets/base",
            "_view_module_version": "1.2.0",
            "_view_name": "LayoutView",
            "align_content": null,
            "align_items": null,
            "align_self": null,
            "border": null,
            "bottom": null,
            "display": null,
            "flex": null,
            "flex_flow": null,
            "grid_area": null,
            "grid_auto_columns": null,
            "grid_auto_flow": null,
            "grid_auto_rows": null,
            "grid_column": null,
            "grid_gap": null,
            "grid_row": null,
            "grid_template_areas": null,
            "grid_template_columns": null,
            "grid_template_rows": null,
            "height": null,
            "justify_content": null,
            "justify_items": null,
            "left": null,
            "margin": null,
            "max_height": null,
            "max_width": null,
            "min_height": null,
            "min_width": null,
            "object_fit": null,
            "object_position": null,
            "order": null,
            "overflow": null,
            "overflow_x": null,
            "overflow_y": null,
            "padding": null,
            "right": null,
            "top": null,
            "visibility": null,
            "width": null
          }
        },
        "5e2c4e0e31da48b8968939d098579bce": {
          "model_module": "@jupyter-widgets/controls",
          "model_name": "DescriptionStyleModel",
          "model_module_version": "1.5.0",
          "state": {
            "_model_module": "@jupyter-widgets/controls",
            "_model_module_version": "1.5.0",
            "_model_name": "DescriptionStyleModel",
            "_view_count": null,
            "_view_module": "@jupyter-widgets/base",
            "_view_module_version": "1.2.0",
            "_view_name": "StyleView",
            "description_width": ""
          }
        },
        "3002443dad4e481786b8517e5d4cd6eb": {
          "model_module": "@jupyter-widgets/base",
          "model_name": "LayoutModel",
          "model_module_version": "1.2.0",
          "state": {
            "_model_module": "@jupyter-widgets/base",
            "_model_module_version": "1.2.0",
            "_model_name": "LayoutModel",
            "_view_count": null,
            "_view_module": "@jupyter-widgets/base",
            "_view_module_version": "1.2.0",
            "_view_name": "LayoutView",
            "align_content": null,
            "align_items": null,
            "align_self": null,
            "border": null,
            "bottom": null,
            "display": null,
            "flex": null,
            "flex_flow": null,
            "grid_area": null,
            "grid_auto_columns": null,
            "grid_auto_flow": null,
            "grid_auto_rows": null,
            "grid_column": null,
            "grid_gap": null,
            "grid_row": null,
            "grid_template_areas": null,
            "grid_template_columns": null,
            "grid_template_rows": null,
            "height": null,
            "justify_content": null,
            "justify_items": null,
            "left": null,
            "margin": null,
            "max_height": null,
            "max_width": null,
            "min_height": null,
            "min_width": null,
            "object_fit": null,
            "object_position": null,
            "order": null,
            "overflow": null,
            "overflow_x": null,
            "overflow_y": null,
            "padding": null,
            "right": null,
            "top": null,
            "visibility": null,
            "width": null
          }
        },
        "0cc1c97f272944daae29136e3eab33ce": {
          "model_module": "@jupyter-widgets/controls",
          "model_name": "DescriptionStyleModel",
          "model_module_version": "1.5.0",
          "state": {
            "_model_module": "@jupyter-widgets/controls",
            "_model_module_version": "1.5.0",
            "_model_name": "DescriptionStyleModel",
            "_view_count": null,
            "_view_module": "@jupyter-widgets/base",
            "_view_module_version": "1.2.0",
            "_view_name": "StyleView",
            "description_width": ""
          }
        },
        "b920729b809646e386360ae07370488c": {
          "model_module": "@jupyter-widgets/base",
          "model_name": "LayoutModel",
          "model_module_version": "1.2.0",
          "state": {
            "_model_module": "@jupyter-widgets/base",
            "_model_module_version": "1.2.0",
            "_model_name": "LayoutModel",
            "_view_count": null,
            "_view_module": "@jupyter-widgets/base",
            "_view_module_version": "1.2.0",
            "_view_name": "LayoutView",
            "align_content": null,
            "align_items": null,
            "align_self": null,
            "border": null,
            "bottom": null,
            "display": null,
            "flex": null,
            "flex_flow": null,
            "grid_area": null,
            "grid_auto_columns": null,
            "grid_auto_flow": null,
            "grid_auto_rows": null,
            "grid_column": null,
            "grid_gap": null,
            "grid_row": null,
            "grid_template_areas": null,
            "grid_template_columns": null,
            "grid_template_rows": null,
            "height": null,
            "justify_content": null,
            "justify_items": null,
            "left": null,
            "margin": null,
            "max_height": null,
            "max_width": null,
            "min_height": null,
            "min_width": null,
            "object_fit": null,
            "object_position": null,
            "order": null,
            "overflow": null,
            "overflow_x": null,
            "overflow_y": null,
            "padding": null,
            "right": null,
            "top": null,
            "visibility": null,
            "width": null
          }
        },
        "ce182d408ec3491c8bc9a5047377f573": {
          "model_module": "@jupyter-widgets/controls",
          "model_name": "DescriptionStyleModel",
          "model_module_version": "1.5.0",
          "state": {
            "_model_module": "@jupyter-widgets/controls",
            "_model_module_version": "1.5.0",
            "_model_name": "DescriptionStyleModel",
            "_view_count": null,
            "_view_module": "@jupyter-widgets/base",
            "_view_module_version": "1.2.0",
            "_view_name": "StyleView",
            "description_width": ""
          }
        },
        "dee9a392736648a7a837c865af500187": {
          "model_module": "@jupyter-widgets/base",
          "model_name": "LayoutModel",
          "model_module_version": "1.2.0",
          "state": {
            "_model_module": "@jupyter-widgets/base",
            "_model_module_version": "1.2.0",
            "_model_name": "LayoutModel",
            "_view_count": null,
            "_view_module": "@jupyter-widgets/base",
            "_view_module_version": "1.2.0",
            "_view_name": "LayoutView",
            "align_content": null,
            "align_items": null,
            "align_self": null,
            "border": null,
            "bottom": null,
            "display": null,
            "flex": null,
            "flex_flow": null,
            "grid_area": null,
            "grid_auto_columns": null,
            "grid_auto_flow": null,
            "grid_auto_rows": null,
            "grid_column": null,
            "grid_gap": null,
            "grid_row": null,
            "grid_template_areas": null,
            "grid_template_columns": null,
            "grid_template_rows": null,
            "height": null,
            "justify_content": null,
            "justify_items": null,
            "left": null,
            "margin": null,
            "max_height": null,
            "max_width": null,
            "min_height": null,
            "min_width": null,
            "object_fit": null,
            "object_position": null,
            "order": null,
            "overflow": null,
            "overflow_x": null,
            "overflow_y": null,
            "padding": null,
            "right": null,
            "top": null,
            "visibility": null,
            "width": null
          }
        },
        "8fa89b611f8e4909818540aef4a22aa7": {
          "model_module": "@jupyter-widgets/controls",
          "model_name": "ButtonStyleModel",
          "model_module_version": "1.5.0",
          "state": {
            "_model_module": "@jupyter-widgets/controls",
            "_model_module_version": "1.5.0",
            "_model_name": "ButtonStyleModel",
            "_view_count": null,
            "_view_module": "@jupyter-widgets/base",
            "_view_module_version": "1.2.0",
            "_view_name": "StyleView",
            "button_color": null,
            "font_weight": ""
          }
        },
        "e2ff4e247c844ccf94474287fbea2912": {
          "model_module": "@jupyter-widgets/base",
          "model_name": "LayoutModel",
          "model_module_version": "1.2.0",
          "state": {
            "_model_module": "@jupyter-widgets/base",
            "_model_module_version": "1.2.0",
            "_model_name": "LayoutModel",
            "_view_count": null,
            "_view_module": "@jupyter-widgets/base",
            "_view_module_version": "1.2.0",
            "_view_name": "LayoutView",
            "align_content": null,
            "align_items": null,
            "align_self": null,
            "border": null,
            "bottom": null,
            "display": null,
            "flex": null,
            "flex_flow": null,
            "grid_area": null,
            "grid_auto_columns": null,
            "grid_auto_flow": null,
            "grid_auto_rows": null,
            "grid_column": null,
            "grid_gap": null,
            "grid_row": null,
            "grid_template_areas": null,
            "grid_template_columns": null,
            "grid_template_rows": null,
            "height": null,
            "justify_content": null,
            "justify_items": null,
            "left": null,
            "margin": null,
            "max_height": null,
            "max_width": null,
            "min_height": null,
            "min_width": null,
            "object_fit": null,
            "object_position": null,
            "order": null,
            "overflow": null,
            "overflow_x": null,
            "overflow_y": null,
            "padding": null,
            "right": null,
            "top": null,
            "visibility": null,
            "width": null
          }
        },
        "f1ddac374e6441cda51aeee11febd203": {
          "model_module": "@jupyter-widgets/controls",
          "model_name": "DescriptionStyleModel",
          "model_module_version": "1.5.0",
          "state": {
            "_model_module": "@jupyter-widgets/controls",
            "_model_module_version": "1.5.0",
            "_model_name": "DescriptionStyleModel",
            "_view_count": null,
            "_view_module": "@jupyter-widgets/base",
            "_view_module_version": "1.2.0",
            "_view_name": "StyleView",
            "description_width": ""
          }
        },
        "04d1095d979d494384961ae613947577": {
          "model_module": "@jupyter-widgets/controls",
          "model_name": "LabelModel",
          "model_module_version": "1.5.0",
          "state": {
            "_dom_classes": [],
            "_model_module": "@jupyter-widgets/controls",
            "_model_module_version": "1.5.0",
            "_model_name": "LabelModel",
            "_view_count": null,
            "_view_module": "@jupyter-widgets/controls",
            "_view_module_version": "1.5.0",
            "_view_name": "LabelView",
            "description": "",
            "description_tooltip": null,
            "layout": "IPY_MODEL_8863bf7b59eb47dbbb07640550061b7b",
            "placeholder": "​",
            "style": "IPY_MODEL_9adb7276fff442c4b9110ecf38b54074",
            "value": "Connecting..."
          }
        },
        "8863bf7b59eb47dbbb07640550061b7b": {
          "model_module": "@jupyter-widgets/base",
          "model_name": "LayoutModel",
          "model_module_version": "1.2.0",
          "state": {
            "_model_module": "@jupyter-widgets/base",
            "_model_module_version": "1.2.0",
            "_model_name": "LayoutModel",
            "_view_count": null,
            "_view_module": "@jupyter-widgets/base",
            "_view_module_version": "1.2.0",
            "_view_name": "LayoutView",
            "align_content": null,
            "align_items": null,
            "align_self": null,
            "border": null,
            "bottom": null,
            "display": null,
            "flex": null,
            "flex_flow": null,
            "grid_area": null,
            "grid_auto_columns": null,
            "grid_auto_flow": null,
            "grid_auto_rows": null,
            "grid_column": null,
            "grid_gap": null,
            "grid_row": null,
            "grid_template_areas": null,
            "grid_template_columns": null,
            "grid_template_rows": null,
            "height": null,
            "justify_content": null,
            "justify_items": null,
            "left": null,
            "margin": null,
            "max_height": null,
            "max_width": null,
            "min_height": null,
            "min_width": null,
            "object_fit": null,
            "object_position": null,
            "order": null,
            "overflow": null,
            "overflow_x": null,
            "overflow_y": null,
            "padding": null,
            "right": null,
            "top": null,
            "visibility": null,
            "width": null
          }
        },
        "9adb7276fff442c4b9110ecf38b54074": {
          "model_module": "@jupyter-widgets/controls",
          "model_name": "DescriptionStyleModel",
          "model_module_version": "1.5.0",
          "state": {
            "_model_module": "@jupyter-widgets/controls",
            "_model_module_version": "1.5.0",
            "_model_name": "DescriptionStyleModel",
            "_view_count": null,
            "_view_module": "@jupyter-widgets/base",
            "_view_module_version": "1.2.0",
            "_view_name": "StyleView",
            "description_width": ""
          }
        }
      }
    }
  },
  "cells": [
    {
      "cell_type": "markdown",
      "metadata": {
        "id": "4a541558"
      },
      "source": [
        "## METHODOLOGY 1 RESEARCH NOTEBOOK\n",
        "\n",
        "**Dynamic Content-Aware Audio Compression for Reduced Hallucinations**\n",
        "\n",
        "Lead: Rithwik Nukala\n",
        "\n",
        "**RESEARCH HYPOTHESIS:**\n",
        "We will reduce reasoning or output tokens by an estimated 30-50% using a dynamic, content-aware compression model on the LibriSpeech and Common Voice datasets, measured by a combination of token count per second and downstream task performance (ASR Word Error Rate), because we hypothesize that a significant portion of audio input is low-complexity (e.g., silence, simple noise) and can be aggressively compressed without losing semantic information, thereby improving efficiency and reducing hallucination risk.\n",
        "\n",
        "**PERFORMANCE TARGETS:**\n",
        "\n",
        "*   30-50% reduction in audio tokens\n",
        "*   Maintain ASR Word Error Rate within acceptable bounds\n",
        "*   Real-time processing capabilities\n",
        "*   Evaluation on LibriSpeech and Common Voice datasets\n",
        "\n",
        "**TEAM MEMBERS:**\n",
        "\n",
        "*   Rithwik Nukala (Lead)\n",
        "*   Ogan Aktolun (Experiment Orchestrator)\n",
        "*   Abdulmatin Omotoso (Core Implementation)\n",
        "*   Kevin Li (Architecture Design & Results Analysis)\n",
        "*   Amitesh Vatsa (Package Integrator & Results Analysis)\n",
        "*   Ishan Singh (Architecture Design & Core Implementation)\n",
        "\n",
        "**NOTEBOOK STRUCTURE:**\n",
        "\n",
        "*   Section 1: Environment Setup & Dependencies\n",
        "*   Section 2: Dataset Integration (LibriSpeech & Common Voice)\n",
        "*   Section 3: Audio Content Analysis & Classification\n",
        "*   Section 4: Dynamic Compression Algorithm Development\n",
        "*   Section 5: Low-Complexity Content Detection\n",
        "*   Section 6: Semantic Preservation Framework\n",
        "*   Section 7: Real-Time Processing Pipeline\n",
        "*   Section 8: ASR Integration & Evaluation\n",
        "*   Section 9: Token Reduction Analysis\n",
        "*   Section 10: Performance Benchmarking\n",
        "*   Section 11: Results Analysis & Validation\n",
        "*   Section 12: Package Development & Documentation"
      ]
    },
    {
      "cell_type": "code",
      "source": [],
      "metadata": {
        "id": "YHrGeb37IeVQ"
      },
      "execution_count": null,
      "outputs": []
    },
    {
      "cell_type": "markdown",
      "source": [
        "## API Usage Section:\n",
        "### Code Example:\n",
        "\n",
        "Complete working example adapted for reasoning tasks\n",
        "Clear parameter explanations (context, prompt, model, rate)\n",
        "Security note about getting personal API keys\n",
        "\n",
        "### Usage Tips:\n",
        "\n",
        "Start with no compression (rate: 0) for baseline testing\n",
        "Personal API key requirement for security\n",
        "Dashboard monitoring for experiment tracking\n",
        "Baseline comparison guidance for methodology evaluation\n",
        "\n",
        "### Generate API key\n",
        "To generate the api key:\n",
        "1. please log into the [dashboard](https://hallucinating-prompts.scaledown.ai/dashboard) and\n",
        "2. switch to API keys tab\n",
        "3. Generate an API key\n",
        "4. You can track the usage over time"
      ],
      "metadata": {
        "id": "Tmy74p7fKeOp"
      }
    },
    {
      "cell_type": "code",
      "source": [
        "import requests\n",
        "import json\n",
        "url = \"https://api.scaledown.xyz/compress/\"\n",
        "payload = json.dumps({\n",
        "  \"context\": \"<context about messi>\",\n",
        "  \"prompt\": \"How many awards does messi have\",\n",
        "  \"model\": \"gemini-2.5-flash\",\n",
        "  \"scaledown\": {\n",
        "    \"rate\": 0\n",
        "  }\n",
        "})\n",
        "headers = {\n",
        "  'x-api-key': 'add your api key here',\n",
        "  'Content-Type': 'application/json'\n",
        "}\n",
        "response = requests.request(\"POST\", url, headers=headers, data=payload)\n",
        "print(response.text)"
      ],
      "metadata": {
        "id": "XEk2UPoCKfp3"
      },
      "execution_count": null,
      "outputs": []
    },
    {
      "cell_type": "markdown",
      "source": [
        "# SECTION 1: ENVIRONMENT SETUP & DEPENDENCIES\n",
        "## Primary: Rithwik Nukala, Ishan Singh | Supporting: All"
      ],
      "metadata": {
        "id": "75IOvEjUIdds"
      }
    },
    {
      "cell_type": "code",
      "execution_count": null,
      "metadata": {
        "id": "cFTLHfV6HGHH"
      },
      "outputs": [],
      "source": [
        "        \"# Cell 1.1: Audio Processing Environment Setup\\n\",\n",
        "        \"\\\"\\\"\\\"\\n\",\n",
        "        \"TODO: Set up comprehensive audio processing environment\\n\",\n",
        "        \"- Install and configure librosa, soundfile, torchaudio\\n\",\n",
        "        \"- Set up speech recognition libraries (whisper, wav2vec2)\\n\",\n",
        "        \"- Configure GPU acceleration for audio processing\\n\",\n",
        "        \"- Install dataset handling libraries for LibriSpeech and Common Voice\\n\",\n",
        "        \"- Set up real-time audio processing frameworks\\n\","
      ]
    },
    {
      "cell_type": "code",
      "source": [
        "        \"TODO: Set up performance monitoring for dynamic compression\\n\",\n",
        "        \"- Implement real-time processing metrics\\n\",\n",
        "        \"- Set up memory usage tracking for large audio files\\n\",\n",
        "        \"- Configure GPU utilization monitoring\\n\",\n",
        "        \"- Create compression ratio tracking\\n\","
      ],
      "metadata": {
        "id": "9sc1WdKCIr9e"
      },
      "execution_count": null,
      "outputs": []
    },
    {
      "cell_type": "markdown",
      "source": [
        "# SECTION 2: DATASET INTEGRATION (LIBRISPEECH & COMMON VOICE)\n",
        "# Primary: Ogan Aktolun, Abdulmatin Omotoso | Supporting: All"
      ],
      "metadata": {
        "id": "w6LrcCHSIum9"
      }
    },
    {
      "cell_type": "markdown",
      "source": [
        "According to [LibriSpeech dataset description](https://huggingface.co/datasets/openslr/librispeech_asr), \"lower-WER speakers designated as 'clean' and the higher WER speakers designated as 'other'\". I (Kevin) think that for the sake of early testing/preprocessing, we exclusively use the \"clean\" set until we verify validity of methods? The \"clean\" set is also smaller."
      ],
      "metadata": {
        "id": "d5nSpvHizxIG"
      }
    },
    {
      "cell_type": "code",
      "source": [
        "\n",
        "        \"TODO: Implement LibriSpeech dataset loading and preprocessing\\n\",\n",
        "        \"- Load LibriSpeech dataset with proper audio format handling\\n\",\n",
        "        \"- Implement efficient batch processing for large dataset\\n\",\n",
        "        \"- Create audio segmentation for analysis\\n\",\n",
        "        \"- Set up ground truth transcriptions for ASR evaluation"
      ],
      "metadata": {
        "id": "iLa_uMDYIx2h"
      },
      "execution_count": null,
      "outputs": []
    },
    {
      "cell_type": "code",
      "source": [
        "!pip install torch torchcodec"
      ],
      "metadata": {
        "id": "Gv1mcrTe-uc_",
        "outputId": "8eae31a7-4906-4dd3-8644-368d0168634a",
        "colab": {
          "base_uri": "https://localhost:8080/"
        }
      },
      "execution_count": 2,
      "outputs": [
        {
          "output_type": "stream",
          "name": "stdout",
          "text": [
            "Requirement already satisfied: torch in /usr/local/lib/python3.12/dist-packages (2.8.0+cu126)\n",
            "Requirement already satisfied: torchcodec in /usr/local/lib/python3.12/dist-packages (0.6.0)\n",
            "Requirement already satisfied: filelock in /usr/local/lib/python3.12/dist-packages (from torch) (3.19.1)\n",
            "Requirement already satisfied: typing-extensions>=4.10.0 in /usr/local/lib/python3.12/dist-packages (from torch) (4.14.1)\n",
            "Requirement already satisfied: setuptools in /usr/local/lib/python3.12/dist-packages (from torch) (75.2.0)\n",
            "Requirement already satisfied: sympy>=1.13.3 in /usr/local/lib/python3.12/dist-packages (from torch) (1.13.3)\n",
            "Requirement already satisfied: networkx in /usr/local/lib/python3.12/dist-packages (from torch) (3.5)\n",
            "Requirement already satisfied: jinja2 in /usr/local/lib/python3.12/dist-packages (from torch) (3.1.6)\n",
            "Requirement already satisfied: fsspec in /usr/local/lib/python3.12/dist-packages (from torch) (2025.3.0)\n",
            "Requirement already satisfied: nvidia-cuda-nvrtc-cu12==12.6.77 in /usr/local/lib/python3.12/dist-packages (from torch) (12.6.77)\n",
            "Requirement already satisfied: nvidia-cuda-runtime-cu12==12.6.77 in /usr/local/lib/python3.12/dist-packages (from torch) (12.6.77)\n",
            "Requirement already satisfied: nvidia-cuda-cupti-cu12==12.6.80 in /usr/local/lib/python3.12/dist-packages (from torch) (12.6.80)\n",
            "Requirement already satisfied: nvidia-cudnn-cu12==9.10.2.21 in /usr/local/lib/python3.12/dist-packages (from torch) (9.10.2.21)\n",
            "Requirement already satisfied: nvidia-cublas-cu12==12.6.4.1 in /usr/local/lib/python3.12/dist-packages (from torch) (12.6.4.1)\n",
            "Requirement already satisfied: nvidia-cufft-cu12==11.3.0.4 in /usr/local/lib/python3.12/dist-packages (from torch) (11.3.0.4)\n",
            "Requirement already satisfied: nvidia-curand-cu12==10.3.7.77 in /usr/local/lib/python3.12/dist-packages (from torch) (10.3.7.77)\n",
            "Requirement already satisfied: nvidia-cusolver-cu12==11.7.1.2 in /usr/local/lib/python3.12/dist-packages (from torch) (11.7.1.2)\n",
            "Requirement already satisfied: nvidia-cusparse-cu12==12.5.4.2 in /usr/local/lib/python3.12/dist-packages (from torch) (12.5.4.2)\n",
            "Requirement already satisfied: nvidia-cusparselt-cu12==0.7.1 in /usr/local/lib/python3.12/dist-packages (from torch) (0.7.1)\n",
            "Requirement already satisfied: nvidia-nccl-cu12==2.27.3 in /usr/local/lib/python3.12/dist-packages (from torch) (2.27.3)\n",
            "Requirement already satisfied: nvidia-nvtx-cu12==12.6.77 in /usr/local/lib/python3.12/dist-packages (from torch) (12.6.77)\n",
            "Requirement already satisfied: nvidia-nvjitlink-cu12==12.6.85 in /usr/local/lib/python3.12/dist-packages (from torch) (12.6.85)\n",
            "Requirement already satisfied: nvidia-cufile-cu12==1.11.1.6 in /usr/local/lib/python3.12/dist-packages (from torch) (1.11.1.6)\n",
            "Requirement already satisfied: triton==3.4.0 in /usr/local/lib/python3.12/dist-packages (from torch) (3.4.0)\n",
            "Requirement already satisfied: mpmath<1.4,>=1.1.0 in /usr/local/lib/python3.12/dist-packages (from sympy>=1.13.3->torch) (1.3.0)\n",
            "Requirement already satisfied: MarkupSafe>=2.0 in /usr/local/lib/python3.12/dist-packages (from jinja2->torch) (3.0.2)\n"
          ]
        }
      ]
    },
    {
      "cell_type": "code",
      "source": [
        "# LibriSpeech data\n",
        "from datasets import load_dataset\n",
        "from torch.utils.data import DataLoader\n",
        "\n",
        "batch_size = 32\n",
        "\n",
        "# Login using e.g. `huggingface-cli login` to access this dataset\n",
        "ds_ls_train100 = load_dataset(\"openslr/librispeech_asr\", \"clean\", split = \"train.100\", streaming = True)\n",
        "ds_ls_val = load_dataset(\"openslr/librispeech_asr\", \"clean\", split = \"validation\", streaming = True)\n",
        "\n",
        "dataloader_ls_train100 = DataLoader(ds_ls_train100, batch_size = batch_size)\n",
        "dataloader_ls_val = DataLoader(ds_ls_val, batch_size = batch_size)"
      ],
      "metadata": {
        "id": "jJtwoPX20dLB",
        "outputId": "980b8058-48cb-4eb7-fbbb-0c9f200af213",
        "colab": {
          "base_uri": "https://localhost:8080/",
          "height": 145,
          "referenced_widgets": [
            "d7189a8959034ea4b71d2c67f65e9ac6",
            "2804ca2f2dcb4604b5d653db3ceda926",
            "4f65661e180b49408b16987e0e117d63",
            "3cdfd97b538c48c7ad120bbd302d928f",
            "e2a18435249d41d7bfc0b2095df1d2ae",
            "4a67dbd6e95c435a939056e66cf423d3",
            "2b01fe44e3f94673bf73d12090666b52",
            "dd02c310892e448ea45319abf280409b",
            "0e24243710c54e4ca76182e6f01725d2",
            "d832e1c4775845c1ba1ad3ee2c08fd9e",
            "f7e5232fb65945839e427d5eba53a75f",
            "953b0478fafc4473a8fe4e16d59069e4",
            "196691d889f549a0a3c5782b5dee931d",
            "b0b6f36c64a04315aea9e54bbe666015",
            "cfeabadc828d42cfa9b688143386a57f",
            "d255824f014b48638d7f43fb954e53a9",
            "2158c3ba81f2435a81e2b81967e0a868",
            "f68c825795554798a38f41a9f8231039",
            "887940ec37f24bbd91f3919325b61583",
            "aa2bad798729488d9b55688079551466",
            "ea5f8f500f1341a79db0bdb13ca20006",
            "998079330acd460988bb378af5d65de9",
            "0cae659fe4ef4c41bc315c8eb9615acc",
            "e8684e106f9645629d51db55509020d4",
            "6ea0c2a1c73e46809322a80ba6175c18",
            "016fb04063a14d3190d30fad7fc3d42a",
            "795238b47f5848c7b723aaf49d1b3273",
            "7407d6eb025c45d9b0a00bb8c3f8000e",
            "c447220e15664171873bec0a45fb48fd",
            "2afe42c0fa4e45ee8d3f8cf4cecc3f26",
            "58a357436af448f9963925bffeefe140",
            "6d32a4aac6d4456681dffeb2a20a7583",
            "7e7ba29502024774aeb1ce14042efc56",
            "a74eb2b061814a4e9efea518ea63ec66",
            "c9874533c86440d197487844d788ba6f",
            "da18695b28d445c695272cf6a0a89e16",
            "5c3398e8b93d4655b92e4d5185eb604e",
            "aeb37662475e4fc8bb6ee4e7c17f32b3",
            "a0b16a3573924eecaf93dfc22c66f7d0",
            "28c0c24d78974a60b18745c7bd04c3bd",
            "92ecf38e821f43ba849c9b378eacac20",
            "f79447259de44c4fa8d04d6c1a5bdfa4",
            "baeca327f402479ab05397fa12958b19",
            "46e3f8bb113c45d5bf7ab12fa3279141"
          ]
        }
      },
      "execution_count": 23,
      "outputs": [
        {
          "output_type": "display_data",
          "data": {
            "text/plain": [
              "Resolving data files:   0%|          | 0/48 [00:00<?, ?it/s]"
            ],
            "application/vnd.jupyter.widget-view+json": {
              "version_major": 2,
              "version_minor": 0,
              "model_id": "d7189a8959034ea4b71d2c67f65e9ac6"
            }
          },
          "metadata": {}
        },
        {
          "output_type": "display_data",
          "data": {
            "text/plain": [
              "Resolving data files:   0%|          | 0/48 [00:00<?, ?it/s]"
            ],
            "application/vnd.jupyter.widget-view+json": {
              "version_major": 2,
              "version_minor": 0,
              "model_id": "953b0478fafc4473a8fe4e16d59069e4"
            }
          },
          "metadata": {}
        },
        {
          "output_type": "display_data",
          "data": {
            "text/plain": [
              "Resolving data files:   0%|          | 0/48 [00:00<?, ?it/s]"
            ],
            "application/vnd.jupyter.widget-view+json": {
              "version_major": 2,
              "version_minor": 0,
              "model_id": "0cae659fe4ef4c41bc315c8eb9615acc"
            }
          },
          "metadata": {}
        },
        {
          "output_type": "display_data",
          "data": {
            "text/plain": [
              "Resolving data files:   0%|          | 0/48 [00:00<?, ?it/s]"
            ],
            "application/vnd.jupyter.widget-view+json": {
              "version_major": 2,
              "version_minor": 0,
              "model_id": "a74eb2b061814a4e9efea518ea63ec66"
            }
          },
          "metadata": {}
        }
      ]
    },
    {
      "cell_type": "code",
      "source": [
        "from IPython.display import Audio\n",
        "\n",
        "a = next(iter(ds_ls_val))\n",
        "audio = a[\"audio\"][\"array\"]\n",
        "sample_rate = a[\"audio\"][\"sampling_rate\"]\n",
        "\n",
        "print(a.keys())\n",
        "print(a[\"text\"])\n",
        "Audio(audio, rate = sample_rate)"
      ],
      "metadata": {
        "id": "VEByrury_IDn",
        "outputId": "c8402b14-8bf9-4742-fa5b-76d268a04417",
        "colab": {
          "base_uri": "https://localhost:8080/",
          "height": 116
        }
      },
      "execution_count": 17,
      "outputs": [
        {
          "output_type": "stream",
          "name": "stdout",
          "text": [
            "dict_keys(['file', 'audio', 'text', 'speaker_id', 'chapter_id', 'id'])\n",
            "HE WAS IN A FEVERED STATE OF MIND OWING TO THE BLIGHT HIS WIFE'S ACTION THREATENED TO CAST UPON HIS ENTIRE FUTURE\n"
          ]
        },
        {
          "output_type": "execute_result",
          "data": {
            "text/plain": [
              "<IPython.lib.display.Audio object>"
            ],
            "text/html": [
              "\n",
              "                <audio  controls=\"controls\" >\n",
              "                    <source src=\"data:audio/wav;base64,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\" type=\"audio/wav\" />\n",
              "                    Your browser does not support the audio element.\n",
              "                </audio>\n",
              "              "
            ]
          },
          "metadata": {},
          "execution_count": 17
        }
      ]
    },
    {
      "cell_type": "code",
      "source": [
        "\n",
        "        \"TODO: Implement Common Voice dataset loading and preprocessing\\n\",\n",
        "        \"- Load Common Voice dataset with multi-language support\\n\",\n",
        "        \"- Handle varying audio quality and lengths\\n\",\n",
        "        \"- Implement speaker diversity analysis\\n\",\n",
        "        \"- Create evaluation splits for testing\\n\""
      ],
      "metadata": {
        "id": "vLZB386SI2t5"
      },
      "execution_count": null,
      "outputs": []
    },
    {
      "cell_type": "code",
      "source": [
        "# https://github.com/huggingface/datasets/issues/7693\n",
        "# it seems like te mozilla one is old, so either you downgrade datasets or fix the dataset\n",
        "!pip install datasets==3.6.0"
      ],
      "metadata": {
        "id": "4GSGeOu9GO6L",
        "outputId": "b92c0040-34dd-40ea-ef14-c212a3a188d4",
        "colab": {
          "base_uri": "https://localhost:8080/",
          "height": 860
        }
      },
      "execution_count": 31,
      "outputs": [
        {
          "output_type": "stream",
          "name": "stdout",
          "text": [
            "Collecting datasets==3.6.0\n",
            "  Downloading datasets-3.6.0-py3-none-any.whl.metadata (19 kB)\n",
            "Requirement already satisfied: filelock in /usr/local/lib/python3.12/dist-packages (from datasets==3.6.0) (3.19.1)\n",
            "Requirement already satisfied: numpy>=1.17 in /usr/local/lib/python3.12/dist-packages (from datasets==3.6.0) (2.0.2)\n",
            "Requirement already satisfied: pyarrow>=15.0.0 in /usr/local/lib/python3.12/dist-packages (from datasets==3.6.0) (18.1.0)\n",
            "Requirement already satisfied: dill<0.3.9,>=0.3.0 in /usr/local/lib/python3.12/dist-packages (from datasets==3.6.0) (0.3.8)\n",
            "Requirement already satisfied: pandas in /usr/local/lib/python3.12/dist-packages (from datasets==3.6.0) (2.2.2)\n",
            "Requirement already satisfied: requests>=2.32.2 in /usr/local/lib/python3.12/dist-packages (from datasets==3.6.0) (2.32.4)\n",
            "Requirement already satisfied: tqdm>=4.66.3 in /usr/local/lib/python3.12/dist-packages (from datasets==3.6.0) (4.67.1)\n",
            "Requirement already satisfied: xxhash in /usr/local/lib/python3.12/dist-packages (from datasets==3.6.0) (3.5.0)\n",
            "Requirement already satisfied: multiprocess<0.70.17 in /usr/local/lib/python3.12/dist-packages (from datasets==3.6.0) (0.70.16)\n",
            "Requirement already satisfied: fsspec<=2025.3.0,>=2023.1.0 in /usr/local/lib/python3.12/dist-packages (from fsspec[http]<=2025.3.0,>=2023.1.0->datasets==3.6.0) (2025.3.0)\n",
            "Requirement already satisfied: huggingface-hub>=0.24.0 in /usr/local/lib/python3.12/dist-packages (from datasets==3.6.0) (0.34.4)\n",
            "Requirement already satisfied: packaging in /usr/local/lib/python3.12/dist-packages (from datasets==3.6.0) (25.0)\n",
            "Requirement already satisfied: pyyaml>=5.1 in /usr/local/lib/python3.12/dist-packages (from datasets==3.6.0) (6.0.2)\n",
            "Requirement already satisfied: aiohttp!=4.0.0a0,!=4.0.0a1 in /usr/local/lib/python3.12/dist-packages (from fsspec[http]<=2025.3.0,>=2023.1.0->datasets==3.6.0) (3.12.15)\n",
            "Requirement already satisfied: typing-extensions>=3.7.4.3 in /usr/local/lib/python3.12/dist-packages (from huggingface-hub>=0.24.0->datasets==3.6.0) (4.14.1)\n",
            "Requirement already satisfied: hf-xet<2.0.0,>=1.1.3 in /usr/local/lib/python3.12/dist-packages (from huggingface-hub>=0.24.0->datasets==3.6.0) (1.1.7)\n",
            "Requirement already satisfied: charset_normalizer<4,>=2 in /usr/local/lib/python3.12/dist-packages (from requests>=2.32.2->datasets==3.6.0) (3.4.3)\n",
            "Requirement already satisfied: idna<4,>=2.5 in /usr/local/lib/python3.12/dist-packages (from requests>=2.32.2->datasets==3.6.0) (3.10)\n",
            "Requirement already satisfied: urllib3<3,>=1.21.1 in /usr/local/lib/python3.12/dist-packages (from requests>=2.32.2->datasets==3.6.0) (2.5.0)\n",
            "Requirement already satisfied: certifi>=2017.4.17 in /usr/local/lib/python3.12/dist-packages (from requests>=2.32.2->datasets==3.6.0) (2025.8.3)\n",
            "Requirement already satisfied: python-dateutil>=2.8.2 in /usr/local/lib/python3.12/dist-packages (from pandas->datasets==3.6.0) (2.9.0.post0)\n",
            "Requirement already satisfied: pytz>=2020.1 in /usr/local/lib/python3.12/dist-packages (from pandas->datasets==3.6.0) (2025.2)\n",
            "Requirement already satisfied: tzdata>=2022.7 in /usr/local/lib/python3.12/dist-packages (from pandas->datasets==3.6.0) (2025.2)\n",
            "Requirement already satisfied: aiohappyeyeballs>=2.5.0 in /usr/local/lib/python3.12/dist-packages (from aiohttp!=4.0.0a0,!=4.0.0a1->fsspec[http]<=2025.3.0,>=2023.1.0->datasets==3.6.0) (2.6.1)\n",
            "Requirement already satisfied: aiosignal>=1.4.0 in /usr/local/lib/python3.12/dist-packages (from aiohttp!=4.0.0a0,!=4.0.0a1->fsspec[http]<=2025.3.0,>=2023.1.0->datasets==3.6.0) (1.4.0)\n",
            "Requirement already satisfied: attrs>=17.3.0 in /usr/local/lib/python3.12/dist-packages (from aiohttp!=4.0.0a0,!=4.0.0a1->fsspec[http]<=2025.3.0,>=2023.1.0->datasets==3.6.0) (25.3.0)\n",
            "Requirement already satisfied: frozenlist>=1.1.1 in /usr/local/lib/python3.12/dist-packages (from aiohttp!=4.0.0a0,!=4.0.0a1->fsspec[http]<=2025.3.0,>=2023.1.0->datasets==3.6.0) (1.7.0)\n",
            "Requirement already satisfied: multidict<7.0,>=4.5 in /usr/local/lib/python3.12/dist-packages (from aiohttp!=4.0.0a0,!=4.0.0a1->fsspec[http]<=2025.3.0,>=2023.1.0->datasets==3.6.0) (6.6.4)\n",
            "Requirement already satisfied: propcache>=0.2.0 in /usr/local/lib/python3.12/dist-packages (from aiohttp!=4.0.0a0,!=4.0.0a1->fsspec[http]<=2025.3.0,>=2023.1.0->datasets==3.6.0) (0.3.2)\n",
            "Requirement already satisfied: yarl<2.0,>=1.17.0 in /usr/local/lib/python3.12/dist-packages (from aiohttp!=4.0.0a0,!=4.0.0a1->fsspec[http]<=2025.3.0,>=2023.1.0->datasets==3.6.0) (1.20.1)\n",
            "Requirement already satisfied: six>=1.5 in /usr/local/lib/python3.12/dist-packages (from python-dateutil>=2.8.2->pandas->datasets==3.6.0) (1.17.0)\n",
            "Downloading datasets-3.6.0-py3-none-any.whl (491 kB)\n",
            "\u001b[2K   \u001b[90m━━━━━━━━━━━━━━━━━━━━━━━━━━━━━━━━━━━━━━━━\u001b[0m \u001b[32m491.5/491.5 kB\u001b[0m \u001b[31m11.3 MB/s\u001b[0m eta \u001b[36m0:00:00\u001b[0m\n",
            "\u001b[?25hInstalling collected packages: datasets\n",
            "  Attempting uninstall: datasets\n",
            "    Found existing installation: datasets 4.0.0\n",
            "    Uninstalling datasets-4.0.0:\n",
            "      Successfully uninstalled datasets-4.0.0\n",
            "Successfully installed datasets-3.6.0\n"
          ]
        },
        {
          "output_type": "display_data",
          "data": {
            "application/vnd.colab-display-data+json": {
              "pip_warning": {
                "packages": [
                  "datasets"
                ]
              },
              "id": "336627f197084132a030555971afe043"
            }
          },
          "metadata": {}
        }
      ]
    },
    {
      "cell_type": "code",
      "source": [
        "# cv12 requires hf login\n",
        "from huggingface_hub import login\n",
        "\n",
        "login()"
      ],
      "metadata": {
        "id": "zaxS5bClE6lh",
        "outputId": "c7c98c17-04dc-4ba9-b3ce-0d8e27dec077",
        "colab": {
          "base_uri": "https://localhost:8080/",
          "height": 17,
          "referenced_widgets": [
            "5c5ecd9a0a284b3db9d53dc8030dcad1",
            "be22120c742d4cddb5443e2bdb7106b7",
            "4df37ae0c09745a29c670e21aab3566d",
            "fc636e748043433fa53aa149024b1b7e",
            "3144256f8dcd406eba89b43e6e4ad84b",
            "c4e7dedb74974e958f050ed1bc4f4e17",
            "1fbde77673444eb0aedd5041b935f662",
            "6a9f821af48a4410af41602c5c3a2ba9",
            "5e2c4e0e31da48b8968939d098579bce",
            "3002443dad4e481786b8517e5d4cd6eb",
            "0cc1c97f272944daae29136e3eab33ce",
            "b920729b809646e386360ae07370488c",
            "ce182d408ec3491c8bc9a5047377f573",
            "dee9a392736648a7a837c865af500187",
            "8fa89b611f8e4909818540aef4a22aa7",
            "e2ff4e247c844ccf94474287fbea2912",
            "f1ddac374e6441cda51aeee11febd203",
            "04d1095d979d494384961ae613947577",
            "8863bf7b59eb47dbbb07640550061b7b",
            "9adb7276fff442c4b9110ecf38b54074"
          ]
        }
      },
      "execution_count": 1,
      "outputs": [
        {
          "output_type": "display_data",
          "data": {
            "text/plain": [
              "VBox(children=(HTML(value='<center> <img\\nsrc=https://huggingface.co/front/assets/huggingface_logo-noborder.sv…"
            ],
            "application/vnd.jupyter.widget-view+json": {
              "version_major": 2,
              "version_minor": 0,
              "model_id": "5c5ecd9a0a284b3db9d53dc8030dcad1"
            }
          },
          "metadata": {}
        }
      ]
    },
    {
      "cell_type": "code",
      "source": [
        "from datasets import load_dataset\n",
        "from torch.utils.data import DataLoader\n",
        "\n",
        "batch_size = 32\n",
        "language = \"en\"\n",
        "\n",
        "ds_cv_test = load_dataset(\"mozilla-foundation/common_voice_12_0\", language, split = \"test\", streaming = True)\n",
        "ds_cv_train = load_dataset(\"mozilla-foundation/common_voice_12_0\", language, split = \"train\", streaming = True)\n",
        "dataloader_cv_test = DataLoader(ds_cv_test, batch_size = batch_size)\n",
        "dataloader_cv_train = DataLoader(ds_cv_train, batch_size = batch_size)"
      ],
      "metadata": {
        "id": "ZHdzSNxjDnpB"
      },
      "execution_count": 4,
      "outputs": []
    },
    {
      "cell_type": "markdown",
      "source": [
        "# SECTION 3: AUDIO CONTENT ANALYSIS & CLASSIFICATION\n",
        "# Primary: Kevin Li, Rithwik Nukala | Supporting: Ishan Singh"
      ],
      "metadata": {
        "id": "UY_Dts9vI1kR"
      }
    },
    {
      "cell_type": "code",
      "source": [
        "       \"TODO: Implement audio content complexity analysis\\n\",\n",
        "        \"- Design complexity scoring algorithm\\n\",\n",
        "        \"- Classify audio segments by complexity (silence, noise, speech)\\n\",\n",
        "        \"- Implement real-time complexity detection\\n\",\n",
        "        \"- Create adaptive thresholds for different content types\\n\","
      ],
      "metadata": {
        "id": "HFbM-DKfJA-V"
      },
      "execution_count": null,
      "outputs": []
    },
    {
      "cell_type": "code",
      "source": [
        "       \"TODO: Implement advanced voice activity detection\\n\",\n",
        "        \"- Design robust VAD algorithm\\n\",\n",
        "        \"- Handle noisy environments\\n\",\n",
        "        \"- Optimize for real-time processing\\n\",\n",
        "        \"- Integrate with compression decisions\\n\","
      ],
      "metadata": {
        "id": "n9UEXc59JSpE"
      },
      "execution_count": null,
      "outputs": []
    },
    {
      "cell_type": "markdown",
      "source": [
        "# SECTION 4: DYNAMIC COMPRESSION ALGORITHM DEVELOPMENT\n",
        "## Primary: Rithwik Nukala, Ishan Singh | Supporting: Abdulmatin Omotoso"
      ],
      "metadata": {
        "id": "7sCxmpFHJWPS"
      }
    },
    {
      "cell_type": "code",
      "source": [
        "        \"TODO: Implement core dynamic compression algorithm\\n\",\n",
        "        \"- Design content-aware compression ratios\\n\",\n",
        "        \"- Implement adaptive compression based on content type\\n\",\n",
        "        \"- Create real-time compression pipeline\\n\",\n",
        "        \"- Optimize for 30-50% token reduction target\\n\","
      ],
      "metadata": {
        "id": "h8uud1grJalq"
      },
      "execution_count": null,
      "outputs": []
    },
    {
      "cell_type": "code",
      "source": [
        "        \"TODO: Implement compression quality control mechanisms\\n\",\n",
        "        \"- Define quality metrics for compressed audio\\n\",\n",
        "        \"- Implement feedback loop for compression adjustment\\n\",\n",
        "        \"- Create quality thresholds for different use cases\\n\",\n",
        "        \"- Validate semantic preservation\\n\","
      ],
      "metadata": {
        "id": "tS2yXPOzJdT4"
      },
      "execution_count": null,
      "outputs": []
    },
    {
      "cell_type": "markdown",
      "source": [
        "# SECTION 5: LOW-COMPLEXITY CONTENT DETECTION\n",
        "## Primary: Kevin Li, Ogan Aktolun | Supporting:"
      ],
      "metadata": {
        "id": "FFi9dDhJJkpn"
      }
    },
    {
      "cell_type": "code",
      "source": [
        "        \"TODO: Implement robust silence and noise detection\\n\",\n",
        "        \"- Design multi-feature silence detection\\n\",\n",
        "        \"- Classify different types of background noise\\n\",\n",
        "        \"- Optimize detection for various audio conditions\\n\",\n",
        "        \"- Create confidence scoring for detection results\\n"
      ],
      "metadata": {
        "id": "avfN9Nt9JoL4"
      },
      "execution_count": null,
      "outputs": []
    },
    {
      "cell_type": "code",
      "source": [
        "       \"        TODO: Compute how aggressively a segment can be compressed\\n\",\n",
        "        \"        - Combine silence and noise detection results\\n\",\n",
        "        \"        - Consider semantic importance\\n\",\n",
        "        \"        - Return compression recommendation\\n\","
      ],
      "metadata": {
        "id": "H-_kfW0BJpjH"
      },
      "execution_count": null,
      "outputs": []
    },
    {
      "cell_type": "markdown",
      "source": [
        "# SECTION 6: SEMANTIC PRESERVATION FRAMEWORK\n",
        "## Primary: Abdulmatin Omotoso, Ishan Singh | Supporting:All"
      ],
      "metadata": {
        "id": "gtLCLeG2JtDS"
      }
    },
    {
      "cell_type": "code",
      "source": [
        "        \"TODO: Implement semantic importance scoring for audio segments\\n\",\n",
        "        \"- Design semantic importance metrics\\n\",\n",
        "        \"- Integrate with speech recognition confidence\\n\",\n",
        "        \"- Consider linguistic importance of segments\\n\",\n",
        "        \"- Preserve critical information during compression\\n\","
      ],
      "metadata": {
        "id": "36yt5X-HJxPV"
      },
      "execution_count": null,
      "outputs": []
    },
    {
      "cell_type": "code",
      "source": [],
      "metadata": {
        "id": "GF7xpbvHJzb3"
      },
      "execution_count": null,
      "outputs": []
    },
    {
      "cell_type": "markdown",
      "source": [
        "# SECTION 7: REAL-TIME PROCESSING PIPELINE,\n",
        "## Primary: Amitesh Vatsa, Rithwik Nukala | Supporting: All"
      ],
      "metadata": {
        "id": "tF_rkmhbJ29g"
      }
    },
    {
      "cell_type": "code",
      "source": [
        "        \"TODO: Implement real-time compression pipeline\\n\",\n",
        "        \"- Design streaming audio processing\\n\",\n",
        "        \"- Implement low-latency compression\\n\",\n",
        "        \"- Optimize for real-time performance\\n\",\n",
        "        \"- Handle variable audio input rates\\n\","
      ],
      "metadata": {
        "id": "ja1asrKCJ7zO"
      },
      "execution_count": null,
      "outputs": []
    },
    {
      "cell_type": "markdown",
      "source": [
        "# SECTION 8: ASR INTEGRATION & EVALUATION\n",
        "## Primary: Ogan Aktolun, Kevin Li | Supporting: All"
      ],
      "metadata": {
        "id": "XQGk2RU5J9BE"
      }
    },
    {
      "cell_type": "code",
      "source": [
        "        \"TODO: Implement comprehensive ASR evaluation framework\\n\",\n",
        "        \"- Integrate with multiple ASR systems (Whisper, Wav2Vec2)\\n\",\n",
        "        \"- Calculate Word Error Rate for compressed vs original audio\\n\",\n",
        "        \"- Analyze error patterns by content type\\n\",\n",
        "        \"- Validate that ASR performance is maintained\\n\","
      ],
      "metadata": {
        "id": "E_Gvj6gqKAjX"
      },
      "execution_count": null,
      "outputs": []
    },
    {
      "cell_type": "markdown",
      "source": [
        "# SECTION 9: TOKEN REDUCTION ANALYSIS,\n",
        "## Primary: Kevin Li, Amitesh Vatsa | Supporting: All"
      ],
      "metadata": {
        "id": "bqjV2jgCKE_7"
      }
    },
    {
      "cell_type": "code",
      "source": [
        "        \"TODO: Implement comprehensive token reduction analysis\\n\",\n",
        "        \"- Calculate token count per second for original and compressed audio\\n\",\n",
        "        \"- Analyze token reduction by content type\\n\",\n",
        "        \"- Validate 30-50% reduction target achievement\\n\",\n",
        "        \"- Create detailed reduction reports\\n\","
      ],
      "metadata": {
        "id": "5Pu2tEc0KJUf"
      },
      "execution_count": null,
      "outputs": []
    },
    {
      "cell_type": "code",
      "source": [],
      "metadata": {
        "id": "LIRWvuoSKN73"
      },
      "execution_count": null,
      "outputs": []
    },
    {
      "cell_type": "markdown",
      "source": [
        "# SECTION 10: PERFORMANCE BENCHMARKING,\n",
        "## Primary: All Team Members | Lead: Ogan Aktolun"
      ],
      "metadata": {
        "id": "wSCNSiUrKOQi"
      }
    },
    {
      "cell_type": "code",
      "source": [
        "        \"TODO: Run comprehensive benchmarking on LibriSpeech and Common Voice\\n\",\n",
        "        \"- Execute full evaluation pipeline on both datasets\\n\",\n",
        "        \"- Measure compression performance across different audio types\\n\",\n",
        "        \"- Validate token reduction and ASR performance targets\\n\",\n",
        "        \"- Generate comparative analysis with baseline methods\\n\","
      ],
      "metadata": {
        "id": "HZROxKvmKQ9P"
      },
      "execution_count": null,
      "outputs": []
    },
    {
      "cell_type": "markdown",
      "source": [
        "# SECTION 11: RESULTS ANALYSIS & VALIDATION\n",
        "## Primary: Kevin Li, Amitesh Vatsa | Supporting: All"
      ],
      "metadata": {
        "id": "RlviZ1MrKVy6"
      }
    },
    {
      "cell_type": "code",
      "source": [
        "        \"TODO: Validate methodology 1 performance targets and analyze results\\n\",\n",
        "        \"- Validate 30-50% token reduction achievement\\n\",\n",
        "        \"- Confirm ASR Word Error Rate within acceptable bounds\\n\",\n",
        "        \"- Analyze effectiveness across different content types\\n\",\n",
        "        \"- Document insights and lessons learned\\n\","
      ],
      "metadata": {
        "id": "4QLbnHJkKacW"
      },
      "execution_count": null,
      "outputs": []
    }
  ]
}